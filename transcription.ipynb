{
 "cells": [
  {
   "cell_type": "code",
   "execution_count": 1,
   "id": "5ec91bf4",
   "metadata": {},
   "outputs": [
    {
     "name": "stderr",
     "output_type": "stream",
     "text": [
      "d:\\code\\audio-summarizer\\asenv\\lib\\site-packages\\tqdm\\auto.py:21: TqdmWarning: IProgress not found. Please update jupyter and ipywidgets. See https://ipywidgets.readthedocs.io/en/stable/user_install.html\n",
      "  from .autonotebook import tqdm as notebook_tqdm\n"
     ]
    }
   ],
   "source": [
    "import time\n",
    "import numpy as np\n",
    "import torch\n",
    "from datetime import datetime\n",
    "from transformers import pipeline, AutoModelForSpeechSeq2Seq, AutoProcessor\n",
    "import scipy.io.wavfile as wavfile"
   ]
  },
  {
   "cell_type": "markdown",
   "id": "761ed533",
   "metadata": {},
   "source": [
    "for microphone input"
   ]
  },
  {
   "cell_type": "code",
   "execution_count": 5,
   "id": "081080fa",
   "metadata": {},
   "outputs": [],
   "source": [
    "import matplotlib.pyplot as plt\n",
    "from scipy.signal import resample\n",
    "import pyaudiowpatch as pyaudio # or pyaudio if no loopback needed"
   ]
  },
  {
   "cell_type": "markdown",
   "id": "0faecfe1",
   "metadata": {},
   "source": [
    "Set device"
   ]
  },
  {
   "cell_type": "code",
   "execution_count": 4,
   "id": "71d440df",
   "metadata": {},
   "outputs": [
    {
     "name": "stdout",
     "output_type": "stream",
     "text": [
      "CUDA is available!\n"
     ]
    }
   ],
   "source": [
    "device = 'cuda' if torch.cuda.is_available() else 'cpu'\n",
    "\n",
    "if device == 'cuda':\n",
    "    print(\"CUDA is available!\")\n",
    "else:\n",
    "    print(\"CUDA is not available. Using CPU.\")"
   ]
  },
  {
   "cell_type": "markdown",
   "id": "8b7ceb5e",
   "metadata": {},
   "source": [
    "Model Setup"
   ]
  },
  {
   "cell_type": "code",
   "execution_count": null,
   "id": "0dda333c",
   "metadata": {},
   "outputs": [
    {
     "name": "stderr",
     "output_type": "stream",
     "text": [
      "d:\\code\\audio-summarizer\\asenv\\lib\\site-packages\\huggingface_hub\\file_download.py:143: UserWarning: `huggingface_hub` cache-system uses symlinks by default to efficiently store duplicated files but your machine does not support them in C:\\Users\\rk\\.cache\\huggingface\\hub\\models--openai--whisper-small. Caching files will still work but in a degraded version that might require more space on your disk. This warning can be disabled by setting the `HF_HUB_DISABLE_SYMLINKS_WARNING` environment variable. For more details, see https://huggingface.co/docs/huggingface_hub/how-to-cache#limitations.\n",
      "To support symlinks on Windows, you either need to activate Developer Mode or to run Python as an administrator. In order to activate developer mode, see this article: https://docs.microsoft.com/en-us/windows/apps/get-started/enable-your-device-for-development\n",
      "  warnings.warn(message)\n",
      "Device set to use cuda\n"
     ]
    }
   ],
   "source": [
    "model_id = \"openai/whisper-small\"  \n",
    "asr_pipe = pipeline(\n",
    "    \"automatic-speech-recognition\",\n",
    "    model=model_id,\n",
    "    chunk_length_s=30,\n",
    "    stride_length_s=5,\n",
    "    return_timestamps=True,\n",
    "    device=device,\n",
    "    generate_kwargs={\"language\": \"English\", \"task\": \"transcribe\"}\n",
    ")"
   ]
  },
  {
   "cell_type": "markdown",
   "id": "e8b6e5b4",
   "metadata": {},
   "source": [
    "For Microphone input"
   ]
  },
  {
   "cell_type": "code",
   "execution_count": null,
   "id": "ae915039",
   "metadata": {},
   "outputs": [
    {
     "name": "stdout",
     "output_type": "stream",
     "text": [
      "Available audio input devices:\n",
      "\n",
      "Index 0: Microsoft Sound Mapper - Input (Loopback: False)\n",
      "Index 1: Headset (ACCENTUM) (Loopback: False)\n",
      "Index 2: Microphone Array (Realtek(R) Au (Loopback: False)\n",
      "Index 7: Primary Sound Capture Driver (Loopback: False)\n",
      "Index 8: Headset (ACCENTUM) (Loopback: False)\n",
      "Index 9: Microphone Array (Realtek(R) Audio) (Loopback: False)\n",
      "Index 17: Microphone Array (Realtek(R) Audio) (Loopback: False)\n",
      "Index 18: Headset (ACCENTUM) (Loopback: False)\n",
      "Index 19: Speakers (Realtek(R) Audio) [Loopback] (Loopback: True)\n",
      "Index 20: C27R50x (NVIDIA High Definition Audio) [Loopback] (Loopback: True)\n",
      "Index 21: Headphones (ACCENTUM) [Loopback] (Loopback: True)\n"
     ]
    }
   ],
   "source": [
    "p = pyaudio.PyAudio()\n",
    "print(\"Available audio input devices:\\n\")\n",
    "\n",
    "for i in range(p.get_device_count()):\n",
    "    info = p.get_device_info_by_index(i)\n",
    "    if info[\"maxInputChannels\"] > 0:\n",
    "        print(f\"Index {i}: {info['name']} (Loopback: {info.get('isLoopbackDevice', False)})\")\n"
   ]
  },
  {
   "cell_type": "code",
   "execution_count": 18,
   "id": "8a77d8be",
   "metadata": {},
   "outputs": [
    {
     "name": "stdout",
     "output_type": "stream",
     "text": [
      "Recording from: Headset (ACCENTUM)\n",
      "Listening... Press Ctrl+C to stop.\n",
      "[2025-06-20 18:52:03]  Hi, my name is Rohit Karthik and I am a junior MSNG here working at New Boy Techs. So I have been given a task to transcribe this video.\n",
      "[2025-06-20 18:52:16]  So, I think it's working pretty good and I'm doing a good job.\n",
      "Recording stopped.\n"
     ]
    }
   ],
   "source": [
    "input_device_index = 1  \n",
    "p = pyaudio.PyAudio()\n",
    "mic = p.get_device_info_by_index(input_device_index)\n",
    "RATE = int(mic[\"defaultSampleRate\"])\n",
    "FORMAT = pyaudio.paInt16\n",
    "CHANNELS = 1\n",
    "TRANSCRIPTION_INTERVAL = 10  # in seconds\n",
    "WHISPER_RATE = 16000  # Whisper expects 16kHz\n",
    "\n",
    "stream = p.open(format=FORMAT, channels=CHANNELS, rate=RATE, input=True, input_device_index=input_device_index)\n",
    "print(f\"Recording from: {mic['name']}\")\n",
    "print(\"Listening... Press Ctrl+C to stop.\")\n",
    "\n",
    "audio_frames = np.array([], dtype=np.float32)\n",
    "file_path = \"live_transcriptions.txt\"\n",
    "with open(file_path, \"w\") as f:\n",
    "    try:\n",
    "        while True:\n",
    "            data = stream.read(int(RATE * TRANSCRIPTION_INTERVAL), exception_on_overflow=False)\n",
    "            audio_chunk = np.frombuffer(data, np.int16).astype(np.float32) / 32768.0\n",
    "            audio_chunk = resample(audio_chunk, int(len(audio_chunk) * WHISPER_RATE / RATE))\n",
    "            audio_frames = np.append(audio_frames, audio_chunk)\n",
    "\n",
    "            result = asr_pipe({\"array\": audio_chunk, \"sampling_rate\": WHISPER_RATE})\n",
    "\n",
    "            timestamp = datetime.now().strftime('%Y-%m-%d %H:%M:%S')\n",
    "            f.write(f\"[{timestamp}] {result['text']}\\n\")\n",
    "            f.flush()\n",
    "            print(f\"[{timestamp}] {result['text']}\")\n",
    "    except KeyboardInterrupt:\n",
    "        print(\"Recording stopped.\")\n",
    "        audio_int16 = (audio_frames * 32767).astype(np.int16)\n",
    "        stream.stop_stream()\n",
    "        stream.close()\n",
    "        p.terminate()"
   ]
  }
 ],
 "metadata": {
  "kernelspec": {
   "display_name": "asenv",
   "language": "python",
   "name": "python3"
  },
  "language_info": {
   "codemirror_mode": {
    "name": "ipython",
    "version": 3
   },
   "file_extension": ".py",
   "mimetype": "text/x-python",
   "name": "python",
   "nbconvert_exporter": "python",
   "pygments_lexer": "ipython3",
   "version": "3.10.0"
  }
 },
 "nbformat": 4,
 "nbformat_minor": 5
}
